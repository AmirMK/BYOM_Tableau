{
 "cells": [
  {
   "cell_type": "code",
   "execution_count": 1,
   "metadata": {},
   "outputs": [],
   "source": [
    "import numpy as np\n",
    "import pandas as pd\n",
    "\n",
    "from sklearn import set_config\n",
    "from sklearn.preprocessing import OneHotEncoder\n",
    "from sklearn.preprocessing import StandardScaler\n",
    "from sklearn.impute import SimpleImputer\n",
    "from sklearn.compose import ColumnTransformer\n",
    "from sklearn.pipeline import Pipeline, make_pipeline\n",
    "\n",
    "from sklearn.ensemble import RandomForestRegressor\n",
    "from sklearn.linear_model import Lasso\n",
    "from sklearn.neighbors import KNeighborsRegressor\n",
    "\n",
    "from sklearn.model_selection import GridSearchCV\n",
    "\n",
    "from tabpy.tabpy_tools.client import Client"
   ]
  },
  {
   "cell_type": "code",
   "execution_count": 2,
   "metadata": {},
   "outputs": [],
   "source": [
    "#Model selection function\n",
    "def regressor_selection(X,y, metric = 'r2'):    \n",
    "    pipe = Pipeline([('regressor' , RandomForestRegressor())])    \n",
    "    param_grid = ''\n",
    "    param = [        \n",
    "                \n",
    "        {'regressor' : [RandomForestRegressor()],\n",
    "        'regressor__n_estimators' : [100,200,500],\n",
    "        'regressor__max_depth' : list( range(5,25,5) ),\n",
    "        'regressor__min_samples_split' : list( range(4,12,2) )\n",
    "        },\n",
    "        \n",
    "        {'regressor' : [KNeighborsRegressor()],\n",
    "         'regressor__n_neighbors' : [5,10,20,30],\n",
    "         'regressor__p' : [1,2] \n",
    "        },\n",
    "        {\n",
    "         'regressor' : [Lasso(max_iter=500)],\n",
    "         'regressor__alpha' : [0.001,0.01,0.1,1,10,100,1000]         \n",
    "        }\n",
    "            ]\n",
    "    param_grid = param    \n",
    "    clf = GridSearchCV(pipe, param_grid = param_grid, \n",
    "                       cv = 5, n_jobs=-1,scoring = metric)    \n",
    "    best_clf = clf.fit(X, y)\n",
    "    \n",
    "    return(best_clf.best_params_['regressor'])\n"
   ]
  },
  {
   "cell_type": "code",
   "execution_count": 3,
   "metadata": {},
   "outputs": [],
   "source": [
    "#Reading Data\n",
    "url=  'Restaurant_Profitability_Training_Data.csv'\n",
    "df = pd.read_csv(url)\n",
    "\n",
    "Target = 'Profit'\n",
    "categorical_features = ['Area', 'Age', 'Type','Price Range','Capacity','Number of Menu Items']\n",
    "numerical_feature = []\n",
    "target = 'Profit'\n",
    "\n",
    "label=df[target]\n",
    "data= df[categorical_features+numerical_feature]\n"
   ]
  },
  {
   "cell_type": "code",
   "execution_count": 4,
   "metadata": {},
   "outputs": [
    {
     "data": {
      "text/plain": [
       "ColumnTransformer(transformers=[('numerical',\n",
       "                                 Pipeline(steps=[('imputer',\n",
       "                                                  SimpleImputer(strategy='median')),\n",
       "                                                 ('scaler', StandardScaler())]),\n",
       "                                 []),\n",
       "                                ('categorical', OneHotEncoder(),\n",
       "                                 ['Area', 'Age', 'Type', 'Price Range',\n",
       "                                  'Capacity', 'Number of Menu Items'])])"
      ]
     },
     "execution_count": 4,
     "metadata": {},
     "output_type": "execute_result"
    }
   ],
   "source": [
    "#Data Preprocessing\n",
    "numeric_transformer = Pipeline(steps=[('imputer', SimpleImputer(strategy='median'))\n",
    "                                      ,('scaler', StandardScaler())])\n",
    "categorical_transformer = OneHotEncoder(categories='auto')\n",
    "\n",
    "encoder = ColumnTransformer(\n",
    "    transformers=[\n",
    "        ('numerical', numeric_transformer, numerical_feature),\n",
    "        ('categorical', categorical_transformer, categorical_features)])\n",
    "\n",
    "encoder.fit(data)"
   ]
  },
  {
   "cell_type": "code",
   "execution_count": 5,
   "metadata": {},
   "outputs": [],
   "source": [
    "#Model Building and Selection\n",
    "clf = regressor_selection(encoder.transform(data),label, metric = 'r2')\n",
    "model = clf.fit(encoder.transform(data),label)                \n"
   ]
  },
  {
   "cell_type": "code",
   "execution_count": 6,
   "metadata": {},
   "outputs": [
    {
     "data": {
      "text/html": [
       "<style>div.sk-top-container {color: black;background-color: white;}div.sk-toggleable {background-color: white;}label.sk-toggleable__label {cursor: pointer;display: block;width: 100%;margin-bottom: 0;padding: 0.2em 0.3em;box-sizing: border-box;text-align: center;}div.sk-toggleable__content {max-height: 0;max-width: 0;overflow: hidden;text-align: left;background-color: #f0f8ff;}div.sk-toggleable__content pre {margin: 0.2em;color: black;border-radius: 0.25em;background-color: #f0f8ff;}input.sk-toggleable__control:checked~div.sk-toggleable__content {max-height: 200px;max-width: 100%;overflow: auto;}div.sk-estimator input.sk-toggleable__control:checked~label.sk-toggleable__label {background-color: #d4ebff;}div.sk-label input.sk-toggleable__control:checked~label.sk-toggleable__label {background-color: #d4ebff;}input.sk-hidden--visually {border: 0;clip: rect(1px 1px 1px 1px);clip: rect(1px, 1px, 1px, 1px);height: 1px;margin: -1px;overflow: hidden;padding: 0;position: absolute;width: 1px;}div.sk-estimator {font-family: monospace;background-color: #f0f8ff;margin: 0.25em 0.25em;border: 1px dotted black;border-radius: 0.25em;box-sizing: border-box;}div.sk-estimator:hover {background-color: #d4ebff;}div.sk-parallel-item::after {content: \"\";width: 100%;border-bottom: 1px solid gray;flex-grow: 1;}div.sk-label:hover label.sk-toggleable__label {background-color: #d4ebff;}div.sk-serial::before {content: \"\";position: absolute;border-left: 1px solid gray;box-sizing: border-box;top: 2em;bottom: 0;left: 50%;}div.sk-serial {display: flex;flex-direction: column;align-items: center;background-color: white;}div.sk-item {z-index: 1;}div.sk-parallel {display: flex;align-items: stretch;justify-content: center;background-color: white;}div.sk-parallel-item {display: flex;flex-direction: column;position: relative;background-color: white;}div.sk-parallel-item:first-child::after {align-self: flex-end;width: 50%;}div.sk-parallel-item:last-child::after {align-self: flex-start;width: 50%;}div.sk-parallel-item:only-child::after {width: 0;}div.sk-dashed-wrapped {border: 1px dashed gray;margin: 0.2em;box-sizing: border-box;padding-bottom: 0.1em;background-color: white;position: relative;}div.sk-label label {font-family: monospace;font-weight: bold;background-color: white;display: inline-block;line-height: 1.2em;}div.sk-label-container {position: relative;z-index: 2;text-align: center;}div.sk-container {display: inline-block;position: relative;}</style><div class=\"sk-top-container\"><div class=\"sk-container\"><div class=\"sk-item sk-dashed-wrapped\"><div class=\"sk-label-container\"><div class=\"sk-label sk-toggleable\"><input class=\"sk-toggleable__control sk-hidden--visually\" id=\"73f3a545-4e4b-428a-8035-37c66900a054\" type=\"checkbox\" ><label class=\"sk-toggleable__label\" for=\"73f3a545-4e4b-428a-8035-37c66900a054\">Pipeline</label><div class=\"sk-toggleable__content\"><pre>Pipeline(steps=[('columntransformer',\n",
       "                 ColumnTransformer(transformers=[('numerical',\n",
       "                                                  Pipeline(steps=[('imputer',\n",
       "                                                                   SimpleImputer(strategy='median')),\n",
       "                                                                  ('scaler',\n",
       "                                                                   StandardScaler())]),\n",
       "                                                  []),\n",
       "                                                 ('categorical',\n",
       "                                                  OneHotEncoder(),\n",
       "                                                  ['Area', 'Age', 'Type',\n",
       "                                                   'Price Range', 'Capacity',\n",
       "                                                   'Number of Menu Items'])])),\n",
       "                ('randomforestregressor',\n",
       "                 RandomForestRegressor(max_depth=20, min_samples_split=4))])</pre></div></div></div><div class=\"sk-serial\"><div class=\"sk-item sk-dashed-wrapped\"><div class=\"sk-label-container\"><div class=\"sk-label sk-toggleable\"><input class=\"sk-toggleable__control sk-hidden--visually\" id=\"2b14ceb7-7ca8-4141-a4c1-8f49e4a5fe90\" type=\"checkbox\" ><label class=\"sk-toggleable__label\" for=\"2b14ceb7-7ca8-4141-a4c1-8f49e4a5fe90\">columntransformer: ColumnTransformer</label><div class=\"sk-toggleable__content\"><pre>ColumnTransformer(transformers=[('numerical',\n",
       "                                 Pipeline(steps=[('imputer',\n",
       "                                                  SimpleImputer(strategy='median')),\n",
       "                                                 ('scaler', StandardScaler())]),\n",
       "                                 []),\n",
       "                                ('categorical', OneHotEncoder(),\n",
       "                                 ['Area', 'Age', 'Type', 'Price Range',\n",
       "                                  'Capacity', 'Number of Menu Items'])])</pre></div></div></div><div class=\"sk-parallel\"><div class=\"sk-parallel-item\"><div class=\"sk-item\"><div class=\"sk-label-container\"><div class=\"sk-label sk-toggleable\"><input class=\"sk-toggleable__control sk-hidden--visually\" id=\"3ce1c336-dbe1-4149-8882-98909f1ce2d4\" type=\"checkbox\" ><label class=\"sk-toggleable__label\" for=\"3ce1c336-dbe1-4149-8882-98909f1ce2d4\">numerical</label><div class=\"sk-toggleable__content\"><pre>[]</pre></div></div></div><div class=\"sk-serial\"><div class=\"sk-item\"><div class=\"sk-serial\"><div class=\"sk-item\"><div class=\"sk-estimator sk-toggleable\"><input class=\"sk-toggleable__control sk-hidden--visually\" id=\"492cd9c6-9628-4de0-b1d6-9bad34272563\" type=\"checkbox\" ><label class=\"sk-toggleable__label\" for=\"492cd9c6-9628-4de0-b1d6-9bad34272563\">SimpleImputer</label><div class=\"sk-toggleable__content\"><pre>SimpleImputer(strategy='median')</pre></div></div></div><div class=\"sk-item\"><div class=\"sk-estimator sk-toggleable\"><input class=\"sk-toggleable__control sk-hidden--visually\" id=\"e1b3f47c-6094-4ae5-b5f4-f4fd6ba93bea\" type=\"checkbox\" ><label class=\"sk-toggleable__label\" for=\"e1b3f47c-6094-4ae5-b5f4-f4fd6ba93bea\">StandardScaler</label><div class=\"sk-toggleable__content\"><pre>StandardScaler()</pre></div></div></div></div></div></div></div></div><div class=\"sk-parallel-item\"><div class=\"sk-item\"><div class=\"sk-label-container\"><div class=\"sk-label sk-toggleable\"><input class=\"sk-toggleable__control sk-hidden--visually\" id=\"2ec94b5f-924a-448c-ada4-247c54c87ed2\" type=\"checkbox\" ><label class=\"sk-toggleable__label\" for=\"2ec94b5f-924a-448c-ada4-247c54c87ed2\">categorical</label><div class=\"sk-toggleable__content\"><pre>['Area', 'Age', 'Type', 'Price Range', 'Capacity', 'Number of Menu Items']</pre></div></div></div><div class=\"sk-serial\"><div class=\"sk-item\"><div class=\"sk-estimator sk-toggleable\"><input class=\"sk-toggleable__control sk-hidden--visually\" id=\"6477f9a1-4e30-4775-b8f7-955794b28b2f\" type=\"checkbox\" ><label class=\"sk-toggleable__label\" for=\"6477f9a1-4e30-4775-b8f7-955794b28b2f\">OneHotEncoder</label><div class=\"sk-toggleable__content\"><pre>OneHotEncoder()</pre></div></div></div></div></div></div></div></div><div class=\"sk-item\"><div class=\"sk-estimator sk-toggleable\"><input class=\"sk-toggleable__control sk-hidden--visually\" id=\"86910f3e-98e3-4d8e-b5ad-c0792073268b\" type=\"checkbox\" ><label class=\"sk-toggleable__label\" for=\"86910f3e-98e3-4d8e-b5ad-c0792073268b\">RandomForestRegressor</label><div class=\"sk-toggleable__content\"><pre>RandomForestRegressor(max_depth=20, min_samples_split=4)</pre></div></div></div></div></div></div></div>"
      ],
      "text/plain": [
       "Pipeline(steps=[('columntransformer',\n",
       "                 ColumnTransformer(transformers=[('numerical',\n",
       "                                                  Pipeline(steps=[('imputer',\n",
       "                                                                   SimpleImputer(strategy='median')),\n",
       "                                                                  ('scaler',\n",
       "                                                                   StandardScaler())]),\n",
       "                                                  []),\n",
       "                                                 ('categorical',\n",
       "                                                  OneHotEncoder(),\n",
       "                                                  ['Area', 'Age', 'Type',\n",
       "                                                   'Price Range', 'Capacity',\n",
       "                                                   'Number of Menu Items'])])),\n",
       "                ('randomforestregressor',\n",
       "                 RandomForestRegressor(max_depth=20, min_samples_split=4))])"
      ]
     },
     "execution_count": 6,
     "metadata": {},
     "output_type": "execute_result"
    }
   ],
   "source": [
    "#Display the process\n",
    "pipe = make_pipeline(encoder, model)\n",
    "set_config(display=\"diagram\")\n",
    "pipe "
   ]
  },
  {
   "cell_type": "code",
   "execution_count": 7,
   "metadata": {},
   "outputs": [],
   "source": [
    "#Wrapper function for prediction\n",
    "def Profitability_Prediction(Areas, Ages, Types, Price_Ranges, Capacities, Items):    \n",
    "    input_data = np.column_stack([Areas, Ages, Types, Price_Ranges, Capacities, Items])\n",
    "    X = pd.DataFrame(input_data,columns=['Area', 'Age', 'Type','Price Range','Capacity','Number of Menu Items'])\n",
    "    result = model.predict(encoder.transform(X))\n",
    "    return result.tolist()\n"
   ]
  },
  {
   "cell_type": "code",
   "execution_count": 8,
   "metadata": {},
   "outputs": [
    {
     "data": {
      "text/plain": [
       "[46475.60913095237, 135659.07721428576]"
      ]
     },
     "execution_count": 8,
     "metadata": {},
     "output_type": "execute_result"
    }
   ],
   "source": [
    "#Test the prediction\n",
    "Areas = ['Downtown','Suburbs']\n",
    "Ages = ['Developed','Well-Known'] \n",
    "Types = ['Cafeteria','Full Service Restaurant']\n",
    "Price_Ranges= ['$$','$$$']\n",
    "Capacities = ['90-100','30-50'] \n",
    "Items = ['Salad & Sandwich only','10-15']\n",
    "\n",
    "Profitability_Prediction(Areas, Ages, Types, Price_Ranges, Capacities, Items)"
   ]
  },
  {
   "cell_type": "code",
   "execution_count": 9,
   "metadata": {},
   "outputs": [],
   "source": [
    "#Model deployment\n",
    "client = Client('http://localhost:9004/')\n",
    "client.deploy('Restaurant_Profitability',\n",
    "              Profitability_Prediction,\n",
    "              'Returns prediction of profitability for restaurant(s).'\n",
    "              , override = True)\n"
   ]
  },
  {
   "cell_type": "code",
   "execution_count": null,
   "metadata": {},
   "outputs": [],
   "source": []
  }
 ],
 "metadata": {
  "kernelspec": {
   "display_name": "Python 3",
   "language": "python",
   "name": "python3"
  },
  "language_info": {
   "codemirror_mode": {
    "name": "ipython",
    "version": 3
   },
   "file_extension": ".py",
   "mimetype": "text/x-python",
   "name": "python",
   "nbconvert_exporter": "python",
   "pygments_lexer": "ipython3",
   "version": "3.8.3"
  }
 },
 "nbformat": 4,
 "nbformat_minor": 4
}
